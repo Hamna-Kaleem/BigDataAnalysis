{
  "nbformat": 4,
  "nbformat_minor": 0,
  "metadata": {
    "colab": {
      "name": "BigDataAnalysis_Asg1.ipynb",
      "provenance": [],
      "collapsed_sections": [
        "ERbPrFKbYzB2"
      ]
    },
    "kernelspec": {
      "name": "python3",
      "display_name": "Python 3"
    },
    "accelerator": "GPU"
  },
  "cells": [
    {
      "cell_type": "markdown",
      "metadata": {
        "id": "ERbPrFKbYzB2"
      },
      "source": [
        "# **PREPROCESSING**"
      ]
    },
    {
      "cell_type": "code",
      "metadata": {
        "colab": {
          "base_uri": "https://localhost:8080/"
        },
        "id": "5P1QY2IkFPfr",
        "outputId": "0b19124a-9517-4d1e-872b-6214216d0bb3"
      },
      "source": [
        "import pandas as pd\n",
        "data = pd.read_csv(\"/content/drive/MyDrive/df_DataCovid.csv\", sep=',')"
      ],
      "execution_count": 2,
      "outputs": [
        {
          "output_type": "stream",
          "text": [
            "/usr/local/lib/python3.6/dist-packages/IPython/core/interactiveshell.py:2718: DtypeWarning: Columns (7,8,9,10,11,12,39) have mixed types.Specify dtype option on import or set low_memory=False.\n",
            "  interactivity=interactivity, compiler=compiler, result=result)\n"
          ],
          "name": "stderr"
        }
      ]
    },
    {
      "cell_type": "code",
      "metadata": {
        "id": "9knGsgWPWZXa"
      },
      "source": [
        "df = data\n",
        "df[[\"Date\" , \"Time\"]] = data.Date_Time.str.split(expand=True)\n",
        "df[[\"DateOfInfection\", \"TimeOfInfection\"]] = data.date_of_infection.str.split(expand=True)\n",
        "df[[\"DateOfSymptoms\", \"TimeOfSymptoms\"]] = data.date_of_symptoms.str.split(expand=True)\n",
        "df[[\"DateOfRecovery\", \"TimeOfRecovery\"]] = data.date_of_recovery.str.split(expand=True)\n",
        "df[[\"DateOfDeath\", \"TimeOfDeath\"]] = data.date_of_death.str.split(expand=True)\n",
        "df[[\"DateOfHCIn\", \"TimeOfHCIn\"]] = data.date_hospital_check_in.str.split(expand=True)\n",
        "df[[\"DateOfHCOut\", \"TimeOfHCOut\"]] = data.date_hospital_check_out.str.split(expand=True)\n",
        "df[[\"DateOfTest\", \"TimeOfTest\"]] = data.date_of_test.str.split(expand=True)"
      ],
      "execution_count": 3,
      "outputs": []
    },
    {
      "cell_type": "code",
      "metadata": {
        "colab": {
          "base_uri": "https://localhost:8080/",
          "height": 626
        },
        "id": "IaYE4ZAotHpc",
        "outputId": "971bcb61-bc92-492d-e7e8-ff87afdcea80"
      },
      "source": [
        "df.drop(columns=[\"Date_Time\", \"date_of_infection\", \"date_of_symptoms\", \n",
        "                 \"date_of_recovery\", \"date_of_death\", \"date_hospital_check_in\", \"date_hospital_check_out\",\n",
        "                \"date_of_test\" ], inplace=True, axis=1)\n",
        "df"
      ],
      "execution_count": 4,
      "outputs": [
        {
          "output_type": "execute_result",
          "data": {
            "text/html": [
              "<div>\n",
              "<style scoped>\n",
              "    .dataframe tbody tr th:only-of-type {\n",
              "        vertical-align: middle;\n",
              "    }\n",
              "\n",
              "    .dataframe tbody tr th {\n",
              "        vertical-align: top;\n",
              "    }\n",
              "\n",
              "    .dataframe thead th {\n",
              "        text-align: right;\n",
              "    }\n",
              "</style>\n",
              "<table border=\"1\" class=\"dataframe\">\n",
              "  <thead>\n",
              "    <tr style=\"text-align: right;\">\n",
              "      <th></th>\n",
              "      <th>Unnamed: 0</th>\n",
              "      <th>id</th>\n",
              "      <th>age</th>\n",
              "      <th>gender</th>\n",
              "      <th>infection_status</th>\n",
              "      <th>days_since_infection</th>\n",
              "      <th>residence_id</th>\n",
              "      <th>school_id</th>\n",
              "      <th>workplace_id</th>\n",
              "      <th>currentLocationID</th>\n",
              "      <th>currentLocationType</th>\n",
              "      <th>lat</th>\n",
              "      <th>lon</th>\n",
              "      <th>zone_id</th>\n",
              "      <th>is_notified_to_isolate</th>\n",
              "      <th>is_symptomatic</th>\n",
              "      <th>incubation_period</th>\n",
              "      <th>days_since_isolation</th>\n",
              "      <th>isolation_times</th>\n",
              "      <th>days_since_symptomatic</th>\n",
              "      <th>in_hospital</th>\n",
              "      <th>wears_mask</th>\n",
              "      <th>type_of_job</th>\n",
              "      <th>morbidity</th>\n",
              "      <th>exposure_time</th>\n",
              "      <th>infected_from_user_id</th>\n",
              "      <th>transmitted_count</th>\n",
              "      <th>asymptomatic_transmission</th>\n",
              "      <th>locationID_of_infection</th>\n",
              "      <th>income</th>\n",
              "      <th>household_size</th>\n",
              "      <th>bmi</th>\n",
              "      <th>test_result</th>\n",
              "      <th>Scenario</th>\n",
              "      <th>Date</th>\n",
              "      <th>Time</th>\n",
              "      <th>DateOfInfection</th>\n",
              "      <th>TimeOfInfection</th>\n",
              "      <th>DateOfSymptoms</th>\n",
              "      <th>TimeOfSymptoms</th>\n",
              "      <th>DateOfRecovery</th>\n",
              "      <th>TimeOfRecovery</th>\n",
              "      <th>DateOfDeath</th>\n",
              "      <th>TimeOfDeath</th>\n",
              "      <th>DateOfHCIn</th>\n",
              "      <th>TimeOfHCIn</th>\n",
              "      <th>DateOfHCOut</th>\n",
              "      <th>TimeOfHCOut</th>\n",
              "      <th>DateOfTest</th>\n",
              "      <th>TimeOfTest</th>\n",
              "    </tr>\n",
              "  </thead>\n",
              "  <tbody>\n",
              "    <tr>\n",
              "      <th>0</th>\n",
              "      <td>0</td>\n",
              "      <td>32645</td>\n",
              "      <td>29</td>\n",
              "      <td>1</td>\n",
              "      <td>susceptible</td>\n",
              "      <td>0.0</td>\n",
              "      <td>282</td>\n",
              "      <td>3562</td>\n",
              "      <td>282</td>\n",
              "      <td>282</td>\n",
              "      <td>residential</td>\n",
              "      <td>-6.221990</td>\n",
              "      <td>106.971849</td>\n",
              "      <td>0</td>\n",
              "      <td>0</td>\n",
              "      <td>0</td>\n",
              "      <td>3.783601</td>\n",
              "      <td>0</td>\n",
              "      <td>0</td>\n",
              "      <td>0</td>\n",
              "      <td>0</td>\n",
              "      <td>0</td>\n",
              "      <td>Remote worker</td>\n",
              "      <td>None</td>\n",
              "      <td>1.837003</td>\n",
              "      <td>-1</td>\n",
              "      <td>0</td>\n",
              "      <td>-1</td>\n",
              "      <td>-1</td>\n",
              "      <td>5774.248719</td>\n",
              "      <td>6</td>\n",
              "      <td>25</td>\n",
              "      <td>-1</td>\n",
              "      <td>0000001_20200922055707</td>\n",
              "      <td>2020-01-01</td>\n",
              "      <td>00:00:00</td>\n",
              "      <td>NaN</td>\n",
              "      <td>NaN</td>\n",
              "      <td>NaN</td>\n",
              "      <td>None</td>\n",
              "      <td>NaN</td>\n",
              "      <td>None</td>\n",
              "      <td>NaN</td>\n",
              "      <td>None</td>\n",
              "      <td>NaN</td>\n",
              "      <td>None</td>\n",
              "      <td>NaN</td>\n",
              "      <td>None</td>\n",
              "      <td>NaN</td>\n",
              "      <td>None</td>\n",
              "    </tr>\n",
              "    <tr>\n",
              "      <th>1</th>\n",
              "      <td>1</td>\n",
              "      <td>20022</td>\n",
              "      <td>30</td>\n",
              "      <td>1</td>\n",
              "      <td>susceptible</td>\n",
              "      <td>0.0</td>\n",
              "      <td>2247</td>\n",
              "      <td>3605</td>\n",
              "      <td>4761</td>\n",
              "      <td>2247</td>\n",
              "      <td>residential</td>\n",
              "      <td>-6.244313</td>\n",
              "      <td>106.783033</td>\n",
              "      <td>8</td>\n",
              "      <td>0</td>\n",
              "      <td>0</td>\n",
              "      <td>9.117633</td>\n",
              "      <td>0</td>\n",
              "      <td>0</td>\n",
              "      <td>0</td>\n",
              "      <td>0</td>\n",
              "      <td>0</td>\n",
              "      <td>Health worker</td>\n",
              "      <td>None</td>\n",
              "      <td>1.808421</td>\n",
              "      <td>-1</td>\n",
              "      <td>0</td>\n",
              "      <td>-1</td>\n",
              "      <td>-1</td>\n",
              "      <td>14384.879182</td>\n",
              "      <td>1</td>\n",
              "      <td>24</td>\n",
              "      <td>-1</td>\n",
              "      <td>0000001_20200922055707</td>\n",
              "      <td>2020-01-01</td>\n",
              "      <td>00:00:00</td>\n",
              "      <td>NaN</td>\n",
              "      <td>NaN</td>\n",
              "      <td>NaN</td>\n",
              "      <td>None</td>\n",
              "      <td>NaN</td>\n",
              "      <td>None</td>\n",
              "      <td>NaN</td>\n",
              "      <td>None</td>\n",
              "      <td>NaN</td>\n",
              "      <td>None</td>\n",
              "      <td>NaN</td>\n",
              "      <td>None</td>\n",
              "      <td>NaN</td>\n",
              "      <td>None</td>\n",
              "    </tr>\n",
              "    <tr>\n",
              "      <th>2</th>\n",
              "      <td>2</td>\n",
              "      <td>18409</td>\n",
              "      <td>32</td>\n",
              "      <td>0</td>\n",
              "      <td>susceptible</td>\n",
              "      <td>0.0</td>\n",
              "      <td>2122</td>\n",
              "      <td>3590</td>\n",
              "      <td>4744</td>\n",
              "      <td>2122</td>\n",
              "      <td>residential</td>\n",
              "      <td>-6.173000</td>\n",
              "      <td>106.801472</td>\n",
              "      <td>2</td>\n",
              "      <td>0</td>\n",
              "      <td>0</td>\n",
              "      <td>2.042305</td>\n",
              "      <td>0</td>\n",
              "      <td>0</td>\n",
              "      <td>0</td>\n",
              "      <td>0</td>\n",
              "      <td>0</td>\n",
              "      <td>Other job</td>\n",
              "      <td>None</td>\n",
              "      <td>1.795266</td>\n",
              "      <td>-1</td>\n",
              "      <td>0</td>\n",
              "      <td>-1</td>\n",
              "      <td>-1</td>\n",
              "      <td>9502.567895</td>\n",
              "      <td>4</td>\n",
              "      <td>24</td>\n",
              "      <td>-1</td>\n",
              "      <td>0000001_20200922055707</td>\n",
              "      <td>2020-01-01</td>\n",
              "      <td>00:00:00</td>\n",
              "      <td>NaN</td>\n",
              "      <td>NaN</td>\n",
              "      <td>NaN</td>\n",
              "      <td>None</td>\n",
              "      <td>NaN</td>\n",
              "      <td>None</td>\n",
              "      <td>NaN</td>\n",
              "      <td>None</td>\n",
              "      <td>NaN</td>\n",
              "      <td>None</td>\n",
              "      <td>NaN</td>\n",
              "      <td>None</td>\n",
              "      <td>NaN</td>\n",
              "      <td>None</td>\n",
              "    </tr>\n",
              "    <tr>\n",
              "      <th>3</th>\n",
              "      <td>3</td>\n",
              "      <td>34113</td>\n",
              "      <td>29</td>\n",
              "      <td>1</td>\n",
              "      <td>susceptible</td>\n",
              "      <td>0.0</td>\n",
              "      <td>422</td>\n",
              "      <td>3576</td>\n",
              "      <td>3932</td>\n",
              "      <td>422</td>\n",
              "      <td>residential</td>\n",
              "      <td>-6.101532</td>\n",
              "      <td>106.914825</td>\n",
              "      <td>4</td>\n",
              "      <td>0</td>\n",
              "      <td>0</td>\n",
              "      <td>11.241115</td>\n",
              "      <td>0</td>\n",
              "      <td>0</td>\n",
              "      <td>0</td>\n",
              "      <td>0</td>\n",
              "      <td>0</td>\n",
              "      <td>Other job</td>\n",
              "      <td>None</td>\n",
              "      <td>1.805949</td>\n",
              "      <td>-1</td>\n",
              "      <td>0</td>\n",
              "      <td>-1</td>\n",
              "      <td>-1</td>\n",
              "      <td>7029.974753</td>\n",
              "      <td>5</td>\n",
              "      <td>20</td>\n",
              "      <td>-1</td>\n",
              "      <td>0000001_20200922055707</td>\n",
              "      <td>2020-01-01</td>\n",
              "      <td>00:00:00</td>\n",
              "      <td>NaN</td>\n",
              "      <td>NaN</td>\n",
              "      <td>NaN</td>\n",
              "      <td>None</td>\n",
              "      <td>NaN</td>\n",
              "      <td>None</td>\n",
              "      <td>NaN</td>\n",
              "      <td>None</td>\n",
              "      <td>NaN</td>\n",
              "      <td>None</td>\n",
              "      <td>NaN</td>\n",
              "      <td>None</td>\n",
              "      <td>NaN</td>\n",
              "      <td>None</td>\n",
              "    </tr>\n",
              "    <tr>\n",
              "      <th>4</th>\n",
              "      <td>4</td>\n",
              "      <td>40168</td>\n",
              "      <td>58</td>\n",
              "      <td>1</td>\n",
              "      <td>susceptible</td>\n",
              "      <td>0.0</td>\n",
              "      <td>1647</td>\n",
              "      <td>3586</td>\n",
              "      <td>4326</td>\n",
              "      <td>1647</td>\n",
              "      <td>residential</td>\n",
              "      <td>-6.171371</td>\n",
              "      <td>106.939750</td>\n",
              "      <td>4</td>\n",
              "      <td>0</td>\n",
              "      <td>0</td>\n",
              "      <td>9.082528</td>\n",
              "      <td>0</td>\n",
              "      <td>0</td>\n",
              "      <td>0</td>\n",
              "      <td>0</td>\n",
              "      <td>0</td>\n",
              "      <td>Other job</td>\n",
              "      <td>None</td>\n",
              "      <td>0.403426</td>\n",
              "      <td>-1</td>\n",
              "      <td>0</td>\n",
              "      <td>-1</td>\n",
              "      <td>-1</td>\n",
              "      <td>12378.711455</td>\n",
              "      <td>2</td>\n",
              "      <td>31</td>\n",
              "      <td>-1</td>\n",
              "      <td>0000001_20200922055707</td>\n",
              "      <td>2020-01-01</td>\n",
              "      <td>00:00:00</td>\n",
              "      <td>NaN</td>\n",
              "      <td>NaN</td>\n",
              "      <td>NaN</td>\n",
              "      <td>None</td>\n",
              "      <td>NaN</td>\n",
              "      <td>None</td>\n",
              "      <td>NaN</td>\n",
              "      <td>None</td>\n",
              "      <td>NaN</td>\n",
              "      <td>None</td>\n",
              "      <td>NaN</td>\n",
              "      <td>None</td>\n",
              "      <td>NaN</td>\n",
              "      <td>None</td>\n",
              "    </tr>\n",
              "    <tr>\n",
              "      <th>...</th>\n",
              "      <td>...</td>\n",
              "      <td>...</td>\n",
              "      <td>...</td>\n",
              "      <td>...</td>\n",
              "      <td>...</td>\n",
              "      <td>...</td>\n",
              "      <td>...</td>\n",
              "      <td>...</td>\n",
              "      <td>...</td>\n",
              "      <td>...</td>\n",
              "      <td>...</td>\n",
              "      <td>...</td>\n",
              "      <td>...</td>\n",
              "      <td>...</td>\n",
              "      <td>...</td>\n",
              "      <td>...</td>\n",
              "      <td>...</td>\n",
              "      <td>...</td>\n",
              "      <td>...</td>\n",
              "      <td>...</td>\n",
              "      <td>...</td>\n",
              "      <td>...</td>\n",
              "      <td>...</td>\n",
              "      <td>...</td>\n",
              "      <td>...</td>\n",
              "      <td>...</td>\n",
              "      <td>...</td>\n",
              "      <td>...</td>\n",
              "      <td>...</td>\n",
              "      <td>...</td>\n",
              "      <td>...</td>\n",
              "      <td>...</td>\n",
              "      <td>...</td>\n",
              "      <td>...</td>\n",
              "      <td>...</td>\n",
              "      <td>...</td>\n",
              "      <td>...</td>\n",
              "      <td>...</td>\n",
              "      <td>...</td>\n",
              "      <td>...</td>\n",
              "      <td>...</td>\n",
              "      <td>...</td>\n",
              "      <td>...</td>\n",
              "      <td>...</td>\n",
              "      <td>...</td>\n",
              "      <td>...</td>\n",
              "      <td>...</td>\n",
              "      <td>...</td>\n",
              "      <td>...</td>\n",
              "      <td>...</td>\n",
              "    </tr>\n",
              "    <tr>\n",
              "      <th>6799995</th>\n",
              "      <td>6799995</td>\n",
              "      <td>32323</td>\n",
              "      <td>32</td>\n",
              "      <td>0</td>\n",
              "      <td>recovered</td>\n",
              "      <td>0.0</td>\n",
              "      <td>3125</td>\n",
              "      <td>3581</td>\n",
              "      <td>4104</td>\n",
              "      <td>3125</td>\n",
              "      <td>residential</td>\n",
              "      <td>-6.321332</td>\n",
              "      <td>106.866273</td>\n",
              "      <td>7</td>\n",
              "      <td>0</td>\n",
              "      <td>0</td>\n",
              "      <td>20.482251</td>\n",
              "      <td>0</td>\n",
              "      <td>0</td>\n",
              "      <td>0</td>\n",
              "      <td>0</td>\n",
              "      <td>0</td>\n",
              "      <td>Other job</td>\n",
              "      <td>None</td>\n",
              "      <td>1.564081</td>\n",
              "      <td>4107</td>\n",
              "      <td>1</td>\n",
              "      <td>1</td>\n",
              "      <td>3581</td>\n",
              "      <td>5740.383492</td>\n",
              "      <td>6</td>\n",
              "      <td>28</td>\n",
              "      <td>-1</td>\n",
              "      <td>0000001_20200922055707</td>\n",
              "      <td>2020-05-15</td>\n",
              "      <td>19:00:00</td>\n",
              "      <td>2020-02-04</td>\n",
              "      <td>16:00:00</td>\n",
              "      <td>NaN</td>\n",
              "      <td>NaN</td>\n",
              "      <td>2020-02-11</td>\n",
              "      <td>00:00:00</td>\n",
              "      <td>NaN</td>\n",
              "      <td>None</td>\n",
              "      <td>NaN</td>\n",
              "      <td>NaN</td>\n",
              "      <td>NaN</td>\n",
              "      <td>NaN</td>\n",
              "      <td>NaN</td>\n",
              "      <td>None</td>\n",
              "    </tr>\n",
              "    <tr>\n",
              "      <th>6799996</th>\n",
              "      <td>6799996</td>\n",
              "      <td>38298</td>\n",
              "      <td>28</td>\n",
              "      <td>0</td>\n",
              "      <td>recovered</td>\n",
              "      <td>0.0</td>\n",
              "      <td>1776</td>\n",
              "      <td>3607</td>\n",
              "      <td>4441</td>\n",
              "      <td>1776</td>\n",
              "      <td>residential</td>\n",
              "      <td>-6.151697</td>\n",
              "      <td>106.763522</td>\n",
              "      <td>3</td>\n",
              "      <td>0</td>\n",
              "      <td>0</td>\n",
              "      <td>8.586859</td>\n",
              "      <td>0</td>\n",
              "      <td>0</td>\n",
              "      <td>0</td>\n",
              "      <td>0</td>\n",
              "      <td>0</td>\n",
              "      <td>Other job</td>\n",
              "      <td>None</td>\n",
              "      <td>0.950785</td>\n",
              "      <td>1117</td>\n",
              "      <td>1</td>\n",
              "      <td>1</td>\n",
              "      <td>4785</td>\n",
              "      <td>7136.902789</td>\n",
              "      <td>5</td>\n",
              "      <td>23</td>\n",
              "      <td>-1</td>\n",
              "      <td>0000001_20200922055707</td>\n",
              "      <td>2020-05-15</td>\n",
              "      <td>19:00:00</td>\n",
              "      <td>2020-03-16</td>\n",
              "      <td>22:00:00</td>\n",
              "      <td>2020-03-25</td>\n",
              "      <td>12:00:00</td>\n",
              "      <td>2020-03-25</td>\n",
              "      <td>18:00:00</td>\n",
              "      <td>NaN</td>\n",
              "      <td>None</td>\n",
              "      <td>2020-03-25</td>\n",
              "      <td>17:00:00</td>\n",
              "      <td>2020-03-25</td>\n",
              "      <td>18:00:00</td>\n",
              "      <td>NaN</td>\n",
              "      <td>None</td>\n",
              "    </tr>\n",
              "    <tr>\n",
              "      <th>6799997</th>\n",
              "      <td>6799997</td>\n",
              "      <td>32424</td>\n",
              "      <td>42</td>\n",
              "      <td>0</td>\n",
              "      <td>recovered</td>\n",
              "      <td>0.0</td>\n",
              "      <td>987</td>\n",
              "      <td>3598</td>\n",
              "      <td>4765</td>\n",
              "      <td>987</td>\n",
              "      <td>residential</td>\n",
              "      <td>-6.185989</td>\n",
              "      <td>106.984177</td>\n",
              "      <td>0</td>\n",
              "      <td>0</td>\n",
              "      <td>0</td>\n",
              "      <td>3.385301</td>\n",
              "      <td>0</td>\n",
              "      <td>0</td>\n",
              "      <td>0</td>\n",
              "      <td>0</td>\n",
              "      <td>0</td>\n",
              "      <td>Health worker</td>\n",
              "      <td>Hypertension</td>\n",
              "      <td>2.663911</td>\n",
              "      <td>9376</td>\n",
              "      <td>1</td>\n",
              "      <td>1</td>\n",
              "      <td>987</td>\n",
              "      <td>2739.946032</td>\n",
              "      <td>8</td>\n",
              "      <td>25</td>\n",
              "      <td>-1</td>\n",
              "      <td>0000001_20200922055707</td>\n",
              "      <td>2020-05-15</td>\n",
              "      <td>22:00:00</td>\n",
              "      <td>2020-02-19</td>\n",
              "      <td>03:00:00</td>\n",
              "      <td>NaN</td>\n",
              "      <td>NaN</td>\n",
              "      <td>2020-02-21</td>\n",
              "      <td>22:00:00</td>\n",
              "      <td>NaN</td>\n",
              "      <td>None</td>\n",
              "      <td>NaN</td>\n",
              "      <td>NaN</td>\n",
              "      <td>NaN</td>\n",
              "      <td>NaN</td>\n",
              "      <td>NaN</td>\n",
              "      <td>None</td>\n",
              "    </tr>\n",
              "    <tr>\n",
              "      <th>6799998</th>\n",
              "      <td>6799998</td>\n",
              "      <td>32323</td>\n",
              "      <td>32</td>\n",
              "      <td>0</td>\n",
              "      <td>recovered</td>\n",
              "      <td>0.0</td>\n",
              "      <td>3125</td>\n",
              "      <td>3581</td>\n",
              "      <td>4104</td>\n",
              "      <td>3125</td>\n",
              "      <td>residential</td>\n",
              "      <td>-6.321332</td>\n",
              "      <td>106.866273</td>\n",
              "      <td>7</td>\n",
              "      <td>0</td>\n",
              "      <td>0</td>\n",
              "      <td>20.482251</td>\n",
              "      <td>0</td>\n",
              "      <td>0</td>\n",
              "      <td>0</td>\n",
              "      <td>0</td>\n",
              "      <td>0</td>\n",
              "      <td>Other job</td>\n",
              "      <td>None</td>\n",
              "      <td>1.784631</td>\n",
              "      <td>4107</td>\n",
              "      <td>1</td>\n",
              "      <td>1</td>\n",
              "      <td>3581</td>\n",
              "      <td>5740.383492</td>\n",
              "      <td>6</td>\n",
              "      <td>28</td>\n",
              "      <td>-1</td>\n",
              "      <td>0000001_20200922055707</td>\n",
              "      <td>2020-05-15</td>\n",
              "      <td>22:00:00</td>\n",
              "      <td>2020-02-04</td>\n",
              "      <td>16:00:00</td>\n",
              "      <td>NaN</td>\n",
              "      <td>NaN</td>\n",
              "      <td>2020-02-11</td>\n",
              "      <td>00:00:00</td>\n",
              "      <td>NaN</td>\n",
              "      <td>None</td>\n",
              "      <td>NaN</td>\n",
              "      <td>NaN</td>\n",
              "      <td>NaN</td>\n",
              "      <td>NaN</td>\n",
              "      <td>NaN</td>\n",
              "      <td>None</td>\n",
              "    </tr>\n",
              "    <tr>\n",
              "      <th>6799999</th>\n",
              "      <td>6799999</td>\n",
              "      <td>38298</td>\n",
              "      <td>28</td>\n",
              "      <td>0</td>\n",
              "      <td>recovered</td>\n",
              "      <td>0.0</td>\n",
              "      <td>1776</td>\n",
              "      <td>3607</td>\n",
              "      <td>4441</td>\n",
              "      <td>1776</td>\n",
              "      <td>residential</td>\n",
              "      <td>-6.151697</td>\n",
              "      <td>106.763522</td>\n",
              "      <td>3</td>\n",
              "      <td>0</td>\n",
              "      <td>0</td>\n",
              "      <td>8.586859</td>\n",
              "      <td>0</td>\n",
              "      <td>0</td>\n",
              "      <td>0</td>\n",
              "      <td>0</td>\n",
              "      <td>0</td>\n",
              "      <td>Other job</td>\n",
              "      <td>None</td>\n",
              "      <td>2.048080</td>\n",
              "      <td>1117</td>\n",
              "      <td>1</td>\n",
              "      <td>1</td>\n",
              "      <td>4785</td>\n",
              "      <td>7136.902789</td>\n",
              "      <td>5</td>\n",
              "      <td>23</td>\n",
              "      <td>-1</td>\n",
              "      <td>0000001_20200922055707</td>\n",
              "      <td>2020-05-15</td>\n",
              "      <td>22:00:00</td>\n",
              "      <td>2020-03-16</td>\n",
              "      <td>22:00:00</td>\n",
              "      <td>2020-03-25</td>\n",
              "      <td>12:00:00</td>\n",
              "      <td>2020-03-25</td>\n",
              "      <td>18:00:00</td>\n",
              "      <td>NaN</td>\n",
              "      <td>None</td>\n",
              "      <td>2020-03-25</td>\n",
              "      <td>17:00:00</td>\n",
              "      <td>2020-03-25</td>\n",
              "      <td>18:00:00</td>\n",
              "      <td>NaN</td>\n",
              "      <td>None</td>\n",
              "    </tr>\n",
              "  </tbody>\n",
              "</table>\n",
              "<p>6800000 rows × 50 columns</p>\n",
              "</div>"
            ],
            "text/plain": [
              "         Unnamed: 0     id  age  ...  TimeOfHCOut DateOfTest  TimeOfTest\n",
              "0                 0  32645   29  ...         None       None        None\n",
              "1                 1  20022   30  ...         None       None        None\n",
              "2                 2  18409   32  ...         None       None        None\n",
              "3                 3  34113   29  ...         None       None        None\n",
              "4                 4  40168   58  ...         None       None        None\n",
              "...             ...    ...  ...  ...          ...        ...         ...\n",
              "6799995     6799995  32323   32  ...          NaN        NaN        None\n",
              "6799996     6799996  38298   28  ...     18:00:00        NaN        None\n",
              "6799997     6799997  32424   42  ...          NaN        NaN        None\n",
              "6799998     6799998  32323   32  ...          NaN        NaN        None\n",
              "6799999     6799999  38298   28  ...     18:00:00        NaN        None\n",
              "\n",
              "[6800000 rows x 50 columns]"
            ]
          },
          "metadata": {
            "tags": []
          },
          "execution_count": 4
        }
      ]
    },
    {
      "cell_type": "markdown",
      "metadata": {
        "id": "2D7XzMt7cyid"
      },
      "source": [
        "# **TASK 01 : Data Analytics Questions**"
      ]
    },
    {
      "cell_type": "code",
      "metadata": {
        "id": "vhcPGfMCKuFi",
        "colab": {
          "base_uri": "https://localhost:8080/"
        },
        "outputId": "1b70175e-3c70-4d96-d608-80de956f44e9"
      },
      "source": [
        "#How many active cases (infected individuals) were there on 2020-03-01 (01 March 2020)?\n",
        "print(\"Active Cases of Mar 01, 2020 : \",len((df.loc[(df[\"Date\"] == \"2020-03-01\" ) & (df[\"infection_status\"] == \"infected\")]).drop_duplicates(subset=[\"id\"])))"
      ],
      "execution_count": 6,
      "outputs": [
        {
          "output_type": "stream",
          "text": [
            "Active Cases of Mar 01, 2020 :  1031\n"
          ],
          "name": "stdout"
        }
      ]
    },
    {
      "cell_type": "code",
      "metadata": {
        "colab": {
          "base_uri": "https://localhost:8080/"
        },
        "id": "b50Hro2HeTcr",
        "outputId": "1c3b7e47-4cbf-4989-911b-0cada7849088"
      },
      "source": [
        "#How many people died on 2020-03-01 (01 March 2020)?\n",
        "print(len((df[(df[\"DateOfDeath\"] == \"2020-03-01\")& (df[\"infection_status\"]==\"deceased\") ].loc[:,\"id\"]).drop_duplicates()), \" people died on Mar 01,2020\")"
      ],
      "execution_count": 7,
      "outputs": [
        {
          "output_type": "stream",
          "text": [
            "2  people died on Mar 01,2020\n"
          ],
          "name": "stdout"
        }
      ]
    },
    {
      "cell_type": "code",
      "metadata": {
        "colab": {
          "base_uri": "https://localhost:8080/"
        },
        "id": "zRbX0CKF67nX",
        "outputId": "c99113ee-5709-496e-c907-3b3292b4f2f0"
      },
      "source": [
        "#What is the total number of infections, recoveries and deaths?\n",
        "print(\"Total No of Infections\", len((df[(df[\"infection_status\"] == \"infected\" )].loc[:,\"id\"]).drop_duplicates()),\n",
        "      \"Recoveries\", len((df[(df[\"infection_status\"] == \"recovered\")].loc[:,\"id\"]).drop_duplicates()) ,\n",
        "      \"and Deaths\", len((df[(df[\"infection_status\"] == \"deceased\" )].loc[:,\"id\"]).drop_duplicates()))"
      ],
      "execution_count": 8,
      "outputs": [
        {
          "output_type": "stream",
          "text": [
            "Total No of Infections 3854 Recoveries 3658 and Deaths 215\n"
          ],
          "name": "stdout"
        }
      ]
    },
    {
      "cell_type": "code",
      "metadata": {
        "colab": {
          "base_uri": "https://localhost:8080/"
        },
        "id": "2jxYNkN98B8E",
        "outputId": "1ae5769b-fb1f-4745-aadf-0d4dfe54ca21"
      },
      "source": [
        "#How many unique individuals in the dataset?\n",
        "print(\" Total No of Unique Individuals : \",len(df[\"id\"].unique()))"
      ],
      "execution_count": 9,
      "outputs": [
        {
          "output_type": "stream",
          "text": [
            " Total No of Unique Individuals :  10000\n"
          ],
          "name": "stdout"
        }
      ]
    },
    {
      "cell_type": "code",
      "metadata": {
        "colab": {
          "base_uri": "https://localhost:8080/"
        },
        "id": "qCgkZIE58vMG",
        "outputId": "a55d1623-cc7d-42e2-9e39-c94ede283f15"
      },
      "source": [
        "# How many unique locations and their names in the dataset?\n",
        "print(\"Total IDs : \",df[\"currentLocationID\"].nunique())\n",
        "print(\"Names of Locations : \",  df[\"currentLocationType\"].unique())"
      ],
      "execution_count": 10,
      "outputs": [
        {
          "output_type": "stream",
          "text": [
            "Total IDs :  4575\n",
            "Names of Locations :  ['residential' 'shopping_mall' 'market' 'school' 'employment' 'hospital']\n"
          ],
          "name": "stdout"
        }
      ]
    },
    {
      "cell_type": "code",
      "metadata": {
        "id": "SE9DZ5yhClI6",
        "colab": {
          "base_uri": "https://localhost:8080/"
        },
        "outputId": "918ff9aa-ed79-433f-83c0-ca95f2558458"
      },
      "source": [
        "# Which school is the closest to a residence ID = 3115?\n",
        "import numpy as np\n",
        "from scipy.spatial import distance\n",
        "\n",
        "res = df[(df[\"residence_id\"] == 3115 ) & (df[\"currentLocationType\"] == \"residential\")].iloc[0]\n",
        "lat = res[\"lat\"]\n",
        "lon = res[\"lon\"]\n",
        "school = df[(df[\"currentLocationType\"] == \"school\")].loc[:,(\"lat\",\"lon\")]\n",
        "mindist = 100\n",
        "\n",
        "for i in range(len(school)):\n",
        "    slat, slon = school[\"lat\"].iloc[i] , school[\"lon\"].iloc[i]\n",
        "    dist = distance.euclidean((slat,slon),(lat, lon))\n",
        "\n",
        "    if(mindist > dist ):\n",
        "        scox, scoy = slat, slon\n",
        "        mindist = dist\n",
        "\n",
        "school = df[(df[\"currentLocationType\"] == \"school\") & (df[\"lat\"] == scox)&(df[\"lon\"]==scoy)].iloc[0]\n",
        "print(\"Nearest School ID : \", school[\"school_id\"])"
      ],
      "execution_count": 11,
      "outputs": [
        {
          "output_type": "stream",
          "text": [
            "Nearest School ID :  3563\n"
          ],
          "name": "stdout"
        }
      ]
    },
    {
      "cell_type": "code",
      "metadata": {
        "id": "_mto0hy5DMI4",
        "colab": {
          "base_uri": "https://localhost:8080/"
        },
        "outputId": "ac0f4258-67e6-4b3f-c777-65f9eec8d064"
      },
      "source": [
        "# What percentage of individuals aged b/w 30 and 60 visit schools at 08:00 am?\n",
        "ageGroup = len((df[(df[\"age\"] < 61) & (df[\"age\"] > 29)]).drop_duplicates(subset=[\"id\"]))\n",
        "individuals = len((df[(df[\"age\"] < 61) & (df[\"age\"] > 29) &  (df[\"Time\"] == \"08:00:00\") & \n",
        "                      (df[\"currentLocationType\"] == \"school\")]).drop_duplicates(subset=[\"id\"]))\n",
        "print(\"Total Percentage : \", (individuals/ageGroup)*100)"
      ],
      "execution_count": 12,
      "outputs": [
        {
          "output_type": "stream",
          "text": [
            "Total Percentage :  97.05763804917372\n"
          ],
          "name": "stdout"
        }
      ]
    },
    {
      "cell_type": "code",
      "metadata": {
        "id": "imQfvW4DDUEy",
        "colab": {
          "base_uri": "https://localhost:8080/"
        },
        "outputId": "872a6fc7-9694-4a4f-d0f7-fe7fd9e940fd"
      },
      "source": [
        "# What is the most dominant daily path of individual (ID= 37415) ? Hint: There are 5 timestamps per day (00:00,08:00,16:00,19:00,22:00).\n",
        "# An individual can be at his residence (currentLocationType) at given timestamp, then can move to school on the next time stamp and so on. \n",
        "import collections\n",
        "person = df[df[\"id\"]== 37415]\n",
        "dates = person[\"Date\"].unique()\n",
        "sum = 0\n",
        "path = []\n",
        "for date in dates:\n",
        "    path.append(np.array(person[(person[\"Date\"]==date)].loc[:,\"currentLocationType\"]))\n",
        "\n",
        "for specific_path in path:\n",
        "    freq = np.count_nonzero(path==specific_path)\n",
        "    if (freq > sum):\n",
        "        sum = freq\n",
        "        definite_path = specific_path\n",
        "\n",
        "print(\"Dominant Daily Path : \", definite_path, \" at a frquency of : \", sum)\n"
      ],
      "execution_count": 13,
      "outputs": [
        {
          "output_type": "stream",
          "text": [
            "Dominant Daily Path :  ['residential' 'employment' 'employment' 'residential' 'residential']  at a frquency of :  439\n"
          ],
          "name": "stdout"
        }
      ]
    },
    {
      "cell_type": "code",
      "metadata": {
        "id": "ZWxl3d2XDf8x",
        "colab": {
          "base_uri": "https://localhost:8080/"
        },
        "outputId": "eb21bac9-b45f-44f6-94ed-17d673176be6"
      },
      "source": [
        "# What is the proximity(number of individuals sharing the same location) \n",
        "# of an individual ID (37415) at a given date and time?\n",
        "indloc = np.array(df[(df[\"id\"] == 37415) & (df[\"Date\"] == \"2020-03-01\") & (df[\"Time\"] == \"16:00:00\" )].loc[:,\"currentLocationID\"])\n",
        "people = np.array(df[(df[\"id\"] != 37415) & (df[\"Date\"] == \"2020-03-01\") & (df[\"Time\"] == \"16:00:00\")].loc[:,\"currentLocationID\"])\n",
        "    \n",
        "print(\"Proximity of sharing same location at March 1,2020 : \", np.count_nonzero((people == indloc))  )\n"
      ],
      "execution_count": 38,
      "outputs": [
        {
          "output_type": "stream",
          "text": [
            "Proximity of sharing same location at March 1,2020 :  3\n"
          ],
          "name": "stdout"
        }
      ]
    },
    {
      "cell_type": "code",
      "metadata": {
        "id": "hjaQb2iJDy_s",
        "colab": {
          "base_uri": "https://localhost:8080/"
        },
        "outputId": "5aa5b5cf-b52d-4f75-989f-fdd30fdfedfb"
      },
      "source": [
        "# What is the age and gender of individual 37415?\n",
        "# Did this individual get infected? If yes, how long did the infection last? And did the individual die?\n",
        "person = df[df[\"id\"]== 37415].iloc[0,:]\n",
        "if (person[\"gender\"]== 1):\n",
        "    gender = \"Male\"\n",
        "else:\n",
        "    gender = \"Female\"\n",
        "print(\"Age : \", person[\"age\"] , \" \\nGender : \", gender)\n",
        "\n",
        "infect_days = len((df.loc[(df[\"id\"]== 37415) & (df[\"infection_status\"] == \"infected\")]).drop_duplicates(subset=[\"Date\"]))\n",
        "print(\"Person 37415 was infected for \", infect_days, \" days.\" )\n",
        "\n",
        "dod = df[(df[\"id\"]== 37415) & (df[\"infection_status\"] == \"deceased\")]\n",
        "if (len(dod[\"DateOfDeath\"])>0):\n",
        "    print (\"Died On : \", dod[\"DateOfDeath\"] )\n",
        "else:\n",
        "    print(\"Individual Survived\")"
      ],
      "execution_count": 15,
      "outputs": [
        {
          "output_type": "stream",
          "text": [
            "Age :  30  \n",
            "Gender :  Male\n",
            "Person 37415 was infected for  29  days.\n",
            "Individual Survived\n"
          ],
          "name": "stdout"
        }
      ]
    },
    {
      "cell_type": "code",
      "metadata": {
        "id": "8I0gAvg7D387",
        "colab": {
          "base_uri": "https://localhost:8080/"
        },
        "outputId": "ba61c1a4-e975-4cd2-dab9-2e7f981c42c7"
      },
      "source": [
        "# What is the infection and mortality rate of health care workers?\n",
        "\n",
        "HealthWorkers =  len((df.loc[(df[\"type_of_job\"] == \"Health worker\")]).drop_duplicates(subset=[\"id\"]))\n",
        "Infected  = len((df.loc[(df[\"type_of_job\"] == \"Health worker\") & \n",
        "                        (df[\"infection_status\"]==\"infected\")]).drop_duplicates(subset=[\"id\"]))\n",
        "Deceased = len((df.loc[(df[\"type_of_job\"] == \"Health worker\") & \n",
        "                       (df[\"infection_status\"]==\"deceased\")]).drop_duplicates(subset=[\"id\"]))\n",
        "\n",
        "print (\"Total Workers : \", HealthWorkers)\n",
        "print(\"Total Worker Infected : \", Infected )\n",
        "print(\"Total Worker Deceased : \", Deceased )\n",
        "print(\"Infection Rate in Health Care Workers : \" , (Infected/HealthWorkers)*100 )\n",
        "print(\"Mortality Rate In Health Care Workers : \" , (Deceased/HealthWorkers)*100 )"
      ],
      "execution_count": 16,
      "outputs": [
        {
          "output_type": "stream",
          "text": [
            "Total Workers :  403\n",
            "Total Worker Infected :  387\n",
            "Total Worker Deceased :  25\n",
            "Infection Rate in Health Care Workers :  96.02977667493796\n",
            "Mortality Rate In Health Care Workers :  6.20347394540943\n"
          ],
          "name": "stdout"
        }
      ]
    },
    {
      "cell_type": "code",
      "metadata": {
        "id": "kwgUgJVvD9UW",
        "colab": {
          "base_uri": "https://localhost:8080/"
        },
        "outputId": "59468dfa-f5ca-451c-a45f-4dd40a5cb963"
      },
      "source": [
        "# Does the mortality rate change with age and gender?\n",
        "people = np.array(df[(df[\"infection_status\"] == \"deceased\")].loc[:,(\"age\",\"gender\")])\n",
        "group = np.array(df[(df[\"infection_status\"] == \"deceased\")].loc[:,(\"age\",\"gender\")].drop_duplicates(subset=[\"age\",\"gender\"]))\n",
        "survived = np.array(df[(df[\"infection_status\"] != \"deceased\")].loc[:,(\"age\",\"gender\")])\n",
        "\n",
        "for person in group:\n",
        "    deceased_ratio = np.count_nonzero((people == person)) \n",
        "    survived_ratio = np.count_nonzero((survived == person))\n",
        "    total = deceased_ratio + survived_ratio\n",
        "    print(\"Mortality Rate for age and gender \", person, \" is \", (deceased_ratio/total)*100 )"
      ],
      "execution_count": 17,
      "outputs": [
        {
          "output_type": "stream",
          "text": [
            "Mortality Rate for age and gender  [58  1]  is  1.4143985099867453\n",
            "Mortality Rate for age and gender  [31  0]  is  0.6860491530190598\n",
            "Mortality Rate for age and gender  [44  1]  is  1.4265315205527356\n",
            "Mortality Rate for age and gender  [39  1]  is  1.3291063216418422\n",
            "Mortality Rate for age and gender  [59  1]  is  1.4493064125417068\n",
            "Mortality Rate for age and gender  [38  0]  is  0.7443813782823071\n",
            "Mortality Rate for age and gender  [32  0]  is  0.6939069117140483\n",
            "Mortality Rate for age and gender  [84  0]  is  0.6998214621311784\n",
            "Mortality Rate for age and gender  [42  1]  is  1.3259170007440393\n",
            "Mortality Rate for age and gender  [76  0]  is  0.7123602236421726\n",
            "Mortality Rate for age and gender  [57  1]  is  1.4884706796471503\n",
            "Mortality Rate for age and gender  [44  0]  is  0.8565308221720273\n",
            "Mortality Rate for age and gender  [33  0]  is  0.7289251069667179\n",
            "Mortality Rate for age and gender  [62  1]  is  1.3278377757352942\n",
            "Mortality Rate for age and gender  [33  1]  is  1.3142005461330084\n",
            "Mortality Rate for age and gender  [49  1]  is  1.3261371494204377\n",
            "Mortality Rate for age and gender  [38  1]  is  1.3607667453424688\n",
            "Mortality Rate for age and gender  [41  1]  is  1.3682124477880597\n",
            "Mortality Rate for age and gender  [59  0]  is  0.8346674595187998\n",
            "Mortality Rate for age and gender  [86  1]  is  1.331189031190205\n",
            "Mortality Rate for age and gender  [60  0]  is  0.6913823071997073\n",
            "Mortality Rate for age and gender  [37  0]  is  0.740109217801142\n",
            "Mortality Rate for age and gender  [31  1]  is  1.2675919320319087\n",
            "Mortality Rate for age and gender  [58  0]  is  0.7997324124050865\n",
            "Mortality Rate for age and gender  [32  1]  is  1.2386099017920422\n",
            "Mortality Rate for age and gender  [47  1]  is  1.3336804783580432\n",
            "Mortality Rate for age and gender  [52  0]  is  0.6963298139768729\n",
            "Mortality Rate for age and gender  [61  0]  is  0.7837228981794895\n",
            "Mortality Rate for age and gender  [62  0]  is  0.7097399162948995\n",
            "Mortality Rate for age and gender  [61  1]  is  1.3984014351661411\n",
            "Mortality Rate for age and gender  [37  1]  is  1.349143005932165\n",
            "Mortality Rate for age and gender  [57  0]  is  0.8738621809532523\n",
            "Mortality Rate for age and gender  [54  0]  is  0.7191468219580113\n",
            "Mortality Rate for age and gender  [53  1]  is  1.3458933305305445\n",
            "Mortality Rate for age and gender  [54  1]  is  1.3402701610575536\n",
            "Mortality Rate for age and gender  [75  1]  is  1.3212403300973155\n",
            "Mortality Rate for age and gender  [60  1]  is  1.3061325928972987\n",
            "Mortality Rate for age and gender  [71  0]  is  0.6960549348559076\n",
            "Mortality Rate for age and gender  [36  1]  is  1.3211448312763905\n",
            "Mortality Rate for age and gender  [43  0]  is  0.6913254692050783\n",
            "Mortality Rate for age and gender  [82  1]  is  1.3243509694380544\n",
            "Mortality Rate for age and gender  [42  0]  is  0.7284871250597349\n",
            "Mortality Rate for age and gender  [43  1]  is  1.2958593179392102\n",
            "Mortality Rate for age and gender  [39  0]  is  0.7136560346209329\n",
            "Mortality Rate for age and gender  [56  1]  is  1.322643170798646\n",
            "Mortality Rate for age and gender  [35  1]  is  1.3154694010568215\n",
            "Mortality Rate for age and gender  [84  1]  is  1.3312461856250881\n",
            "Mortality Rate for age and gender  [76  1]  is  1.3437749401436554\n",
            "Mortality Rate for age and gender  [70  0]  is  0.6927739146776922\n",
            "Mortality Rate for age and gender  [68  0]  is  0.6924423454222912\n",
            "Mortality Rate for age and gender  [56  0]  is  0.7074273289082169\n",
            "Mortality Rate for age and gender  [85  0]  is  0.6932940941505422\n",
            "Mortality Rate for age and gender  [47  0]  is  0.7041432937897436\n",
            "Mortality Rate for age and gender  [79  0]  is  0.6910325544238067\n",
            "Mortality Rate for age and gender  [53  0]  is  0.7176166711469011\n"
          ],
          "name": "stdout"
        }
      ]
    },
    {
      "cell_type": "markdown",
      "metadata": {
        "id": "eQPuu9h4c_Aa"
      },
      "source": [
        "# **TASK 02 : Visualization**"
      ]
    },
    {
      "cell_type": "code",
      "metadata": {
        "id": "1UGNTRs0c-Lu",
        "colab": {
          "base_uri": "https://localhost:8080/",
          "height": 312
        },
        "outputId": "44d96d30-eeca-4320-c801-55a3a471ce48"
      },
      "source": [
        "# Plot the total number of infections, recoveries and deaths w.r.t date\n",
        "import matplotlib.pyplot as plt\n",
        "\n",
        "freq = df[[\"id\",\"Date\", \"infection_status\"]].drop_duplicates(subset = [\"id\", \"infection_status\"], keep = \"first\")\n",
        "x_data = np.array(freq[\"Date\"].unique())\n",
        "\n",
        "infected_data = []\n",
        "recover_data= []\n",
        "death_data = []\n",
        "\n",
        "for value in x_data:\n",
        "    infected_data.append(np.count_nonzero(np.logical_and.reduce(((freq[\"Date\"] == value), (freq[\"infection_status\"] == \"infected\") ))))\n",
        "    recover_data.append(np.count_nonzero(np.logical_and((freq[\"Date\"] == value), (freq[\"infection_status\"] == \"recovered\"))))\n",
        "    death_data.append(np.count_nonzero(np.logical_and((freq[\"Date\"] == value), (freq[\"infection_status\"] == \"deceased\"))))\n",
        "\n",
        "\n",
        "plt.title(\"Total No of Infection, Reoveries and Deaths\")\n",
        "\n",
        "plt.plot(x_data,death_data, linewidth = 3,label = \"Death Ratio\")\n",
        "plt.plot(x_data,recover_data, linewidth = 3,label = \"Recover Ratio\")\n",
        "plt.plot(x_data,infected_data , linewidth = 3 , label = \"Infected Ratio\")\n",
        "\n",
        "plt.xticks(x_data[::29])\n",
        "plt.xlabel(\"Date\")\n",
        "plt.ylabel(\"# Of Persons\")\n",
        "\n",
        "plt.legend()\n",
        "plt.figure()\n",
        "plt.show()\n",
        "\n"
      ],
      "execution_count": 18,
      "outputs": [
        {
          "output_type": "display_data",
          "data": {
            "image/png": "[encoded data removed]",
            "text/plain": [
              "<Figure size 432x288 with 1 Axes>"
            ]
          },
          "metadata": {
            "tags": [],
            "needs_background": "light"
          }
        },
        {
          "output_type": "display_data",
          "data": {
            "text/plain": [
              "<Figure size 432x288 with 0 Axes>"
            ]
          },
          "metadata": {
            "tags": []
          }
        }
      ]
    },
    {
      "cell_type": "code",
      "metadata": {
        "colab": {
          "base_uri": "https://localhost:8080/",
          "height": 264
        },
        "id": "pP0fR8R67kUM",
        "outputId": "80157e68-a5f7-41d2-94aa-f8530889c3ae"
      },
      "source": [
        "# Plot a pie chart for the ratio of asymptomatic and symptomatic infections.\n",
        "assym = df[(df[\"is_symptomatic\"] == 0) & (df[\"infection_status\"] == \"infected\")].count()[0]\n",
        "sym = df[(df[\"is_symptomatic\"] == 1) & (df[\"infection_status\"] == \"infected\")].count()[0]\n",
        "\n",
        "plt.pie([assym,sym], autopct = '%.2f', labels = [\"Asymptomatic Infection\" , \"Symptomatic Infection\"], colors = [\"yellow\" , \"brown\"] )\n",
        "\n",
        "plt.title(\"Infection Type\")\n",
        "plt.show()"
      ],
      "execution_count": 137,
      "outputs": [
        {
          "output_type": "display_data",
          "data": {
            "image/png": "[encoded data removed]",
            "text/plain": [
              "<Figure size 432x288 with 1 Axes>"
            ]
          },
          "metadata": {
            "tags": []
          }
        }
      ]
    },
    {
      "cell_type": "code",
      "metadata": {
        "id": "6i6RVRDv-Dtr"
      },
      "source": [
        "# Plot the variation of proximity of individual (ID=37415) w.r.t date.\n",
        "x_data = (df[df[\"id\"] == 37415].loc[:, \"Date\"]).drop_duplicates()\n",
        "Time = np.array(df[\"Time\"].unique())\n",
        "\n",
        "sum = 0\n",
        "y_data = []\n",
        "\n",
        "for date in x_data:\n",
        "    indloc = np.array(df[(df[\"id\"] == 37415) & (df[\"Date\"] == \"2020-03-01\") & (df[\"Time\"] == Time[0] )].loc[:,\"currentLocationID\"])\n",
        "    people = np.array(df[(df[\"id\"] != 37415) & (df[\"Date\"] == \"2020-03-01\") & (df[\"Time\"] == Time[0])].loc[:,\"currentLocationID\"])\n",
        "    proximity = np.count_nonzero((people == indloc)\n",
        "    if (sum < proximity):\n",
        "        sum = proximity\n",
        "    \n",
        "    indloc = np.array(df[(df[\"id\"] == 37415) & (df[\"Date\"] == date) & (df[\"Time\"] == Time[1] )].loc[:,\"currentLocationID\"])\n",
        "    people = np.array(df[(df[\"id\"] != 37415) & (df[\"Date\"] == date) & (df[\"Time\"] == Time[1])].loc[:,\"currentLocationID\"])\n",
        "    proximity = np.count_nonzero((people == indloc)\n",
        "    if (sum < proximity):\n",
        "        sum = proximity\n",
        "    \n",
        "    indloc = np.array(df[(df[\"id\"] == 37415) & (df[\"Date\"] == date) & (df[\"Time\"] == Time[2] )].loc[:,\"currentLocationID\"])\n",
        "    people = np.array(df[(df[\"id\"] != 37415) & (df[\"Date\"] == date) & (df[\"Time\"] == Time[2])].loc[:,\"currentLocationID\"])\n",
        "    proximity = np.count_nonzero((people == indloc)\n",
        "    if (sum < proximity):\n",
        "        sum = proximity\n",
        "    \n",
        "    indloc = np.array(df[(df[\"id\"] == 37415) & (df[\"Date\"] == date) & (df[\"Time\"] == Time[3] )].loc[:,\"currentLocationID\"])\n",
        "    people = np.array(df[(df[\"id\"] != 37415) & (df[\"Date\"] == date) & (df[\"Time\"] == Time[3])].loc[:,\"currentLocationID\"])\n",
        "    proximity = np.count_nonzero((people == indloc)\n",
        "    if (sum < proximity):\n",
        "        sum = proximity\n",
        "    \n",
        "    indloc = np.array(df[(df[\"id\"] == 37415) & (df[\"Date\"] == date) & (df[\"Time\"] == Time[4] )].loc[:,\"currentLocationID\"])\n",
        "    people = np.array(df[(df[\"id\"] != 37415) & (df[\"Date\"] == date) & (df[\"Time\"] == Time[4])].loc[:,\"currentLocationID\"])\n",
        "    proximity = np.count_nonzero((people == indloc)\n",
        "    if (sum < proximity):\n",
        "        sum = proximity\n",
        "    \n",
        "    y_data.append(sum)\n",
        "    sum = 0\n"
      ],
      "execution_count": 21,
      "outputs": []
    },
    {
      "cell_type": "code",
      "metadata": {
        "colab": {
          "base_uri": "https://localhost:8080/",
          "height": 312
        },
        "id": "4SlUSlCLF4WD",
        "outputId": "dc8e55bb-5b86-4989-ff41-e4655edf90f7"
      },
      "source": [
        "plt.title(\"Proximity of Person 37415 \")\n",
        "\n",
        "plt.plot(x_data, y_data, linewidth = 3, color = \"red\")\n",
        "plt.xticks(x_data[::29])\n",
        "plt.xlabel(\"Date\")\n",
        "plt.ylabel(\"# Of Persons\")\n",
        "\n",
        "\n",
        "\n",
        "plt.figure()\n",
        "plt.show()"
      ],
      "execution_count": 23,
      "outputs": [
        {
          "output_type": "display_data",
          "data": {
            "image/png": "[encoded data removed]",
            "text/plain": [
              "<Figure size 432x288 with 1 Axes>"
            ]
          },
          "metadata": {
            "tags": [],
            "needs_background": "light"
          }
        },
        {
          "output_type": "display_data",
          "data": {
            "text/plain": [
              "<Figure size 432x288 with 0 Axes>"
            ]
          },
          "metadata": {
            "tags": []
          }
        }
      ]
    },
    {
      "cell_type": "code",
      "metadata": {
        "id": "qSUGtjdUPEye",
        "colab": {
          "base_uri": "https://localhost:8080/",
          "height": 281
        },
        "outputId": "9b31c5dd-38b9-4ff0-85f5-34644e0ef2f2"
      },
      "source": [
        "# Plot bar graphs to show the mortality rates and infection rates per age groups\n",
        "Infected  = ((df[(df[\"infection_status\"]==\"infected\")].loc[:, [\"age\",\"id\"]]).drop_duplicates())\n",
        "Deceased = ((df[(df[\"infection_status\"]==\"deceased\")].loc[:, [\"age\",\"id\"]]).drop_duplicates())\n",
        "\n",
        "y_infect, y_dec =[], []\n",
        "age_group = np.array(range(10,100,10))\n",
        "\n",
        "\n",
        "for age in age_group:\n",
        "    y_infect.append(((Infected[((Infected[\"age\"] <= age) & (Infected[\"age\"] > (age-10)))]).count()[0]))\n",
        "    y_dec.append(((Deceased[((Deceased[\"age\"] <= age) & (Deceased[\"age\"] > (age-10)))]).count()[0]))\n",
        "\n",
        "labels = [\"0-10\",\"11-20\",\"21-30\",\"31-40\",\"41-50\",\"51-60\",\"61-70\",\"71-80\",\"81-90\"]\n",
        "x = np.arange(len(labels))\n",
        "width = 0.4\n",
        "\n",
        "fig, ax = plt.subplots()\n",
        "rects1 = ax.bar((x- width/2), y_infect, width, label='Infected')\n",
        "rects2 = ax.bar((x + width/2), y_dec, width, label='Deceased')\n",
        "\n",
        "# Add some text for labels, title and custom x-axis tick labels, etc.\n",
        "ax.set_ylabel('# of people')\n",
        "ax.set_title('Mortality and Infection rates per age groups')\n",
        "ax.set_xticks(x)\n",
        "ax.set_xticklabels(labels)\n",
        "ax.legend()\n",
        "\n",
        "plt.show()"
      ],
      "execution_count": 69,
      "outputs": [
        {
          "output_type": "display_data",
          "data": {
            "image/png": "[encoded data removed]",
            "text/plain": [
              "<Figure size 432x288 with 1 Axes>"
            ]
          },
          "metadata": {
            "tags": [],
            "needs_background": "light"
          }
        }
      ]
    },
    {
      "cell_type": "code",
      "metadata": {
        "id": "EJol3_4bYNOY"
      },
      "source": [
        "# Visualize the number of individuals at a location on a geographical map.\n",
        "# import numpy as np\n",
        "\n",
        "# residence = df[\"residence_id\"].drop_duplicates()\n",
        "# school = df[\"school_id\"].drop_duplicates()\n",
        "# work = df[\"workplace_id\"].drop_duplicates()\n",
        "\n",
        "# locIds = pd.DataFrame((df.loc[:,(\"currentLocationID\",\"currentLocationType\")]).drop_duplicates())\n",
        "# loc = pd.DataFrame(df[\"currentLocationType\"].drop_duplicates())\n",
        "\n",
        "# proximity = pd.pivot_table(locIds, index=loc, aggfunc=\"size\")\n",
        "# locations = []\n",
        "# loc = np.array(loc)\n",
        "\n",
        "# for i in range(len(loc)):\n",
        "#     locations.append(loc[i])\n",
        "#     locations.append(proximity[i])\n",
        "\n",
        "\n",
        "# import plotly.express as px\n",
        "# fig = px.choropleth(locIds, geojson=counties, locations=locIds, color = proximity,\n",
        "#                            color_continuous_scale=\"Viridis\",\n",
        "#                            range_color=(0, 12),\n",
        "#                            scope=\"usa\",\n",
        "#                            labels={'unemp':'unemployment rate'}\n",
        "#                           )\n",
        "# fig.update_layout(margin={\"r\":0,\"t\":0,\"l\":0,\"b\":0})\n",
        "# fig.show()"
      ],
      "execution_count": null,
      "outputs": []
    }
  ]
}